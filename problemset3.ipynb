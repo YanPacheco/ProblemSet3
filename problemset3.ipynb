{
 "cells": [
  {
   "cell_type": "code",
   "execution_count": 187,
   "metadata": {
    "tags": [
     "outputPrepend"
    ]
   },
   "outputs": [
    {
     "output_type": "stream",
     "name": "stdout",
     "text": "The max water level is: 6.647\n2018-10-10 18:06,6.647,0.561,1,0,0,0,p\n\n"
    }
   ],
   "source": [
    "#P1\n",
    "import math\n",
    "fhand=open('CO-OPS__8729108__wl.csv') #opens file\n",
    "count = 0\n",
    "maxnum=0\n",
    "for line in fhand:\n",
    "    try:\n",
    "        number = float(line.split(',')[1])\n",
    "    except Exception:\n",
    "        pass\n",
    "    if number > maxnum: #tries to find the largest number by comparison\n",
    "        maxnum = number\n",
    "        line_num = count #stores the line of the largest number\n",
    "    count += 1\n",
    "\n",
    "print(\"The max water level is:\", maxnum)\n",
    "lines=open(file1).readlines() #reads all the lines\n",
    "print(lines[line_num]) #prints the line info for the largest number\n",
    "fhand.close()\n"
   ]
  },
  {
   "cell_type": "code",
   "execution_count": 2,
   "metadata": {},
   "outputs": [
    {
     "output_type": "execute_result",
     "data": {
      "text/plain": "            Date Time   Water Level   Sigma   O   F   R   L  Quality \n421  2018-10-10 18:06         6.647   0.561   1   0   0   0         p",
      "text/html": "<div>\n<style scoped>\n    .dataframe tbody tr th:only-of-type {\n        vertical-align: middle;\n    }\n\n    .dataframe tbody tr th {\n        vertical-align: top;\n    }\n\n    .dataframe thead th {\n        text-align: right;\n    }\n</style>\n<table border=\"1\" class=\"dataframe\">\n  <thead>\n    <tr style=\"text-align: right;\">\n      <th></th>\n      <th>Date Time</th>\n      <th>Water Level</th>\n      <th>Sigma</th>\n      <th>O</th>\n      <th>F</th>\n      <th>R</th>\n      <th>L</th>\n      <th>Quality</th>\n    </tr>\n  </thead>\n  <tbody>\n    <tr>\n      <th>421</th>\n      <td>2018-10-10 18:06</td>\n      <td>6.647</td>\n      <td>0.561</td>\n      <td>1</td>\n      <td>0</td>\n      <td>0</td>\n      <td>0</td>\n      <td>p</td>\n    </tr>\n  </tbody>\n</table>\n</div>"
     },
     "metadata": {},
     "execution_count": 2
    }
   ],
   "source": [
    "#P2\n",
    "import pandas as pd\n",
    "\n",
    "df=pd.read_csv('CO-OPS__8729108__wl.csv') #reads in csv as a dataframe\n",
    "\n",
    "df.nlargest(1,[' Water Level'])  #prints the largest water level \n",
    "\n"
   ]
  },
  {
   "cell_type": "code",
   "execution_count": 4,
   "metadata": {},
   "outputs": [
    {
     "output_type": "stream",
     "name": "stdout",
     "text": "Max rise in water level is: diff    0.935\ndtype: float64\n"
    }
   ],
   "source": [
    "#P3\n",
    "import pandas as pd\n",
    "\n",
    "\n",
    "df=pd.read_csv('CO-OPS__8729108__wl.csv') #read file\n",
    "df2 = df[df.index % 6 == 0] #takes every 6th row using indexes\n",
    "\n",
    "df2[[\" Water Level\"]]=df[[\" Water Level\"]].apply(pd.to_numeric)  #makes the water level column numeric\n",
    "df2['diff'] = df2[' Water Level'] - df2[' Water Level'].shift(-1) #takes the difference by doing simple substraction but shifting the frame \n",
    "maxdiff=df2[['diff']].max() #finds the max difference and stores it\n",
    "print('Max rise in water level is:',maxdiff) #prints highest difference in water level rise\n"
   ]
  },
  {
   "cell_type": "code",
   "execution_count": null,
   "metadata": {},
   "outputs": [],
   "source": []
  }
 ],
 "metadata": {
  "language_info": {
   "codemirror_mode": {
    "name": "ipython",
    "version": 3
   },
   "file_extension": ".py",
   "mimetype": "text/x-python",
   "name": "python",
   "nbconvert_exporter": "python",
   "pygments_lexer": "ipython3",
   "version": "3.8.3-final"
  },
  "orig_nbformat": 2,
  "kernelspec": {
   "name": "python38364bit5e8097e6c5ee4ee4ac17d8db7e736931",
   "display_name": "Python 3.8.3 64-bit"
  }
 },
 "nbformat": 4,
 "nbformat_minor": 2
}